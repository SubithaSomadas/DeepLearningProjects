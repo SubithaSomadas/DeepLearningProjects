{
 "cells": [
  {
   "cell_type": "code",
   "execution_count": 1,
   "id": "8ec2dd86",
   "metadata": {},
   "outputs": [],
   "source": [
    "import tensorflow as tf\n",
    "from sklearn import datasets\n",
    "from sklearn.model_selection import train_test_split\n",
    "from tensorflow.keras.models import Sequential\n",
    "from tensorflow.keras.layers import Dense"
   ]
  },
  {
   "cell_type": "code",
   "execution_count": 2,
   "id": "76287e3d",
   "metadata": {},
   "outputs": [],
   "source": [
    "import pandas as pd"
   ]
  },
  {
   "cell_type": "code",
   "execution_count": 3,
   "id": "abb1cb10",
   "metadata": {},
   "outputs": [],
   "source": [
    "file = pd.read_csv('sonar.csv')"
   ]
  },
  {
   "cell_type": "code",
   "execution_count": 4,
   "id": "903aeb01",
   "metadata": {},
   "outputs": [],
   "source": [
    "sonar = pd.DataFrame(file)"
   ]
  },
  {
   "cell_type": "code",
   "execution_count": 5,
   "id": "682cbe1f",
   "metadata": {},
   "outputs": [
    {
     "data": {
      "text/plain": [
       "M    111\n",
       "R     96\n",
       "Name: R, dtype: int64"
      ]
     },
     "execution_count": 5,
     "metadata": {},
     "output_type": "execute_result"
    }
   ],
   "source": [
    "sonar['R'].value_counts()"
   ]
  },
  {
   "cell_type": "code",
   "execution_count": 6,
   "id": "daee4fba",
   "metadata": {},
   "outputs": [],
   "source": [
    "sonar['R'] = sonar['R'].apply(lambda x : 1 if x == 'R' else 0)"
   ]
  },
  {
   "cell_type": "code",
   "execution_count": 7,
   "id": "8cd77301",
   "metadata": {},
   "outputs": [
    {
     "data": {
      "text/plain": [
       "0    111\n",
       "1     96\n",
       "Name: R, dtype: int64"
      ]
     },
     "execution_count": 7,
     "metadata": {},
     "output_type": "execute_result"
    }
   ],
   "source": [
    "sonar['R'].value_counts()"
   ]
  },
  {
   "cell_type": "code",
   "execution_count": 8,
   "id": "7e4549f9",
   "metadata": {
    "scrolled": true
   },
   "outputs": [
    {
     "data": {
      "text/plain": [
       "(207, 61)"
      ]
     },
     "execution_count": 8,
     "metadata": {},
     "output_type": "execute_result"
    }
   ],
   "source": [
    "sonar.shape"
   ]
  },
  {
   "cell_type": "code",
   "execution_count": 9,
   "id": "5e42c3d6",
   "metadata": {},
   "outputs": [
    {
     "data": {
      "text/plain": [
       "\"y = sonar['R'].values\\nX = sonar.iloc[:, :-1].values\\n\\nX, y\""
      ]
     },
     "execution_count": 9,
     "metadata": {},
     "output_type": "execute_result"
    }
   ],
   "source": [
    "'''y = sonar['R'].values\n",
    "X = sonar.iloc[:, :-1].values\n",
    "\n",
    "X, y'''"
   ]
  },
  {
   "cell_type": "code",
   "execution_count": 10,
   "id": "111edfcd",
   "metadata": {},
   "outputs": [],
   "source": [
    "y = sonar['R']\n",
    "X = sonar.drop('R',axis=1)"
   ]
  },
  {
   "cell_type": "code",
   "execution_count": 11,
   "id": "b415f32a",
   "metadata": {},
   "outputs": [],
   "source": [
    "ntw = Sequential()\n",
    "ntw.add(Dense(30,activation ='relu',input_shape = (60,)))\n",
    "ntw.add(Dense(1, activation='relu'))\n",
    "ntw.add(Dense(1, activation='tanh'))\n",
    "ntw.add(Dense(1, activation='sigmoid'))\n",
    "ntw.compile(optimizer='adam',loss='binary_crossentropy',metrics=['accuracy'])"
   ]
  },
  {
   "cell_type": "code",
   "execution_count": 12,
   "id": "ae107e19",
   "metadata": {},
   "outputs": [],
   "source": [
    "X_train, X_test, y_train, y_test = train_test_split(X, y, test_size=0.3, stratify=y, random_state=42)"
   ]
  },
  {
   "cell_type": "code",
   "execution_count": 13,
   "id": "691d5705",
   "metadata": {},
   "outputs": [
    {
     "name": "stdout",
     "output_type": "stream",
     "text": [
      "Epoch 1/100\n",
      "11/11 [==============================] - 1s 23ms/step - loss: 0.6932 - accuracy: 0.4879 - val_loss: 0.6930 - val_accuracy: 0.5362\n",
      "Epoch 2/100\n",
      "11/11 [==============================] - 0s 8ms/step - loss: 0.6930 - accuracy: 0.5362 - val_loss: 0.6928 - val_accuracy: 0.5362\n",
      "Epoch 3/100\n",
      "11/11 [==============================] - 0s 8ms/step - loss: 0.6928 - accuracy: 0.5362 - val_loss: 0.6927 - val_accuracy: 0.5362\n",
      "Epoch 4/100\n",
      "11/11 [==============================] - 0s 6ms/step - loss: 0.6927 - accuracy: 0.5362 - val_loss: 0.6927 - val_accuracy: 0.5362\n",
      "Epoch 5/100\n",
      "11/11 [==============================] - 0s 7ms/step - loss: 0.6927 - accuracy: 0.5362 - val_loss: 0.6926 - val_accuracy: 0.5362\n",
      "Epoch 6/100\n",
      "11/11 [==============================] - 0s 6ms/step - loss: 0.6926 - accuracy: 0.5362 - val_loss: 0.6925 - val_accuracy: 0.5362\n",
      "Epoch 7/100\n",
      "11/11 [==============================] - 0s 5ms/step - loss: 0.6924 - accuracy: 0.5362 - val_loss: 0.6923 - val_accuracy: 0.5362\n",
      "Epoch 8/100\n",
      "11/11 [==============================] - 0s 4ms/step - loss: 0.6923 - accuracy: 0.5362 - val_loss: 0.6922 - val_accuracy: 0.5362\n",
      "Epoch 9/100\n",
      "11/11 [==============================] - 0s 4ms/step - loss: 0.6922 - accuracy: 0.5362 - val_loss: 0.6921 - val_accuracy: 0.5362\n",
      "Epoch 10/100\n",
      "11/11 [==============================] - 0s 4ms/step - loss: 0.6921 - accuracy: 0.5362 - val_loss: 0.6920 - val_accuracy: 0.5362\n",
      "Epoch 11/100\n",
      "11/11 [==============================] - 0s 4ms/step - loss: 0.6920 - accuracy: 0.5362 - val_loss: 0.6920 - val_accuracy: 0.5362\n",
      "Epoch 12/100\n",
      "11/11 [==============================] - 0s 4ms/step - loss: 0.6919 - accuracy: 0.5362 - val_loss: 0.6919 - val_accuracy: 0.5362\n",
      "Epoch 13/100\n",
      "11/11 [==============================] - 0s 4ms/step - loss: 0.6918 - accuracy: 0.5362 - val_loss: 0.6918 - val_accuracy: 0.5362\n",
      "Epoch 14/100\n",
      "11/11 [==============================] - 0s 6ms/step - loss: 0.6918 - accuracy: 0.5362 - val_loss: 0.6917 - val_accuracy: 0.5362\n",
      "Epoch 15/100\n",
      "11/11 [==============================] - 0s 4ms/step - loss: 0.6918 - accuracy: 0.5362 - val_loss: 0.6916 - val_accuracy: 0.5362\n",
      "Epoch 16/100\n",
      "11/11 [==============================] - 0s 4ms/step - loss: 0.6916 - accuracy: 0.5362 - val_loss: 0.6916 - val_accuracy: 0.5362\n",
      "Epoch 17/100\n",
      "11/11 [==============================] - 0s 5ms/step - loss: 0.6916 - accuracy: 0.5362 - val_loss: 0.6915 - val_accuracy: 0.5362\n",
      "Epoch 18/100\n",
      "11/11 [==============================] - 0s 4ms/step - loss: 0.6915 - accuracy: 0.5362 - val_loss: 0.6915 - val_accuracy: 0.5362\n",
      "Epoch 19/100\n",
      "11/11 [==============================] - 0s 4ms/step - loss: 0.6915 - accuracy: 0.5362 - val_loss: 0.6915 - val_accuracy: 0.5362\n",
      "Epoch 20/100\n",
      "11/11 [==============================] - 0s 4ms/step - loss: 0.6915 - accuracy: 0.5362 - val_loss: 0.6915 - val_accuracy: 0.5362\n",
      "Epoch 21/100\n",
      "11/11 [==============================] - 0s 4ms/step - loss: 0.6915 - accuracy: 0.5362 - val_loss: 0.6914 - val_accuracy: 0.5362\n",
      "Epoch 22/100\n",
      "11/11 [==============================] - 0s 4ms/step - loss: 0.6914 - accuracy: 0.5362 - val_loss: 0.6913 - val_accuracy: 0.5362\n",
      "Epoch 23/100\n",
      "11/11 [==============================] - 0s 4ms/step - loss: 0.6913 - accuracy: 0.5362 - val_loss: 0.6913 - val_accuracy: 0.5362\n",
      "Epoch 24/100\n",
      "11/11 [==============================] - 0s 4ms/step - loss: 0.6913 - accuracy: 0.5362 - val_loss: 0.6913 - val_accuracy: 0.5362\n",
      "Epoch 25/100\n",
      "11/11 [==============================] - 0s 5ms/step - loss: 0.6913 - accuracy: 0.5362 - val_loss: 0.6912 - val_accuracy: 0.5362\n",
      "Epoch 26/100\n",
      "11/11 [==============================] - 0s 5ms/step - loss: 0.6912 - accuracy: 0.5362 - val_loss: 0.6912 - val_accuracy: 0.5362\n",
      "Epoch 27/100\n",
      "11/11 [==============================] - 0s 5ms/step - loss: 0.6912 - accuracy: 0.5362 - val_loss: 0.6911 - val_accuracy: 0.5362\n",
      "Epoch 28/100\n",
      "11/11 [==============================] - 0s 5ms/step - loss: 0.6912 - accuracy: 0.5362 - val_loss: 0.6911 - val_accuracy: 0.5362\n",
      "Epoch 29/100\n",
      "11/11 [==============================] - 0s 5ms/step - loss: 0.6911 - accuracy: 0.5362 - val_loss: 0.6911 - val_accuracy: 0.5362\n",
      "Epoch 30/100\n",
      "11/11 [==============================] - 0s 4ms/step - loss: 0.6911 - accuracy: 0.5362 - val_loss: 0.6911 - val_accuracy: 0.5362\n",
      "Epoch 31/100\n",
      "11/11 [==============================] - 0s 4ms/step - loss: 0.6911 - accuracy: 0.5362 - val_loss: 0.6910 - val_accuracy: 0.5362\n",
      "Epoch 32/100\n",
      "11/11 [==============================] - 0s 4ms/step - loss: 0.6911 - accuracy: 0.5362 - val_loss: 0.6910 - val_accuracy: 0.5362\n",
      "Epoch 33/100\n",
      "11/11 [==============================] - 0s 4ms/step - loss: 0.6910 - accuracy: 0.5362 - val_loss: 0.6910 - val_accuracy: 0.5362\n",
      "Epoch 34/100\n",
      "11/11 [==============================] - 0s 4ms/step - loss: 0.6909 - accuracy: 0.5362 - val_loss: 0.6909 - val_accuracy: 0.5362\n",
      "Epoch 35/100\n",
      "11/11 [==============================] - 0s 4ms/step - loss: 0.6909 - accuracy: 0.5362 - val_loss: 0.6909 - val_accuracy: 0.5362\n",
      "Epoch 36/100\n",
      "11/11 [==============================] - 0s 5ms/step - loss: 0.6909 - accuracy: 0.5362 - val_loss: 0.6909 - val_accuracy: 0.5362\n",
      "Epoch 37/100\n",
      "11/11 [==============================] - 0s 4ms/step - loss: 0.6908 - accuracy: 0.5362 - val_loss: 0.6908 - val_accuracy: 0.5362\n",
      "Epoch 38/100\n",
      "11/11 [==============================] - 0s 4ms/step - loss: 0.6908 - accuracy: 0.5362 - val_loss: 0.6908 - val_accuracy: 0.5362\n",
      "Epoch 39/100\n",
      "11/11 [==============================] - 0s 4ms/step - loss: 0.6908 - accuracy: 0.5362 - val_loss: 0.6908 - val_accuracy: 0.5362\n",
      "Epoch 40/100\n",
      "11/11 [==============================] - 0s 4ms/step - loss: 0.6908 - accuracy: 0.5362 - val_loss: 0.6908 - val_accuracy: 0.5362\n",
      "Epoch 41/100\n",
      "11/11 [==============================] - 0s 5ms/step - loss: 0.6908 - accuracy: 0.5362 - val_loss: 0.6908 - val_accuracy: 0.5362\n",
      "Epoch 42/100\n",
      "11/11 [==============================] - 0s 4ms/step - loss: 0.6908 - accuracy: 0.5362 - val_loss: 0.6908 - val_accuracy: 0.5362\n",
      "Epoch 43/100\n",
      "11/11 [==============================] - 0s 4ms/step - loss: 0.6908 - accuracy: 0.5362 - val_loss: 0.6907 - val_accuracy: 0.5362\n",
      "Epoch 44/100\n",
      "11/11 [==============================] - 0s 4ms/step - loss: 0.6908 - accuracy: 0.5362 - val_loss: 0.6907 - val_accuracy: 0.5362\n",
      "Epoch 45/100\n",
      "11/11 [==============================] - 0s 4ms/step - loss: 0.6907 - accuracy: 0.5362 - val_loss: 0.6907 - val_accuracy: 0.5362\n",
      "Epoch 46/100\n",
      "11/11 [==============================] - 0s 4ms/step - loss: 0.6907 - accuracy: 0.5362 - val_loss: 0.6907 - val_accuracy: 0.5362\n",
      "Epoch 47/100\n",
      "11/11 [==============================] - 0s 4ms/step - loss: 0.6907 - accuracy: 0.5362 - val_loss: 0.6907 - val_accuracy: 0.5362\n",
      "Epoch 48/100\n",
      "11/11 [==============================] - 0s 4ms/step - loss: 0.6908 - accuracy: 0.5362 - val_loss: 0.6907 - val_accuracy: 0.5362\n",
      "Epoch 49/100\n",
      "11/11 [==============================] - 0s 4ms/step - loss: 0.6907 - accuracy: 0.5362 - val_loss: 0.6906 - val_accuracy: 0.5362\n",
      "Epoch 50/100\n",
      "11/11 [==============================] - 0s 4ms/step - loss: 0.6907 - accuracy: 0.5362 - val_loss: 0.6906 - val_accuracy: 0.5362\n",
      "Epoch 51/100\n",
      "11/11 [==============================] - 0s 4ms/step - loss: 0.6907 - accuracy: 0.5362 - val_loss: 0.6906 - val_accuracy: 0.5362\n",
      "Epoch 52/100\n",
      "11/11 [==============================] - 0s 4ms/step - loss: 0.6906 - accuracy: 0.5362 - val_loss: 0.6906 - val_accuracy: 0.5362\n",
      "Epoch 53/100\n",
      "11/11 [==============================] - 0s 4ms/step - loss: 0.6906 - accuracy: 0.5362 - val_loss: 0.6906 - val_accuracy: 0.5362\n",
      "Epoch 54/100\n",
      "11/11 [==============================] - 0s 4ms/step - loss: 0.6906 - accuracy: 0.5362 - val_loss: 0.6906 - val_accuracy: 0.5362\n",
      "Epoch 55/100\n",
      "11/11 [==============================] - 0s 4ms/step - loss: 0.6906 - accuracy: 0.5362 - val_loss: 0.6906 - val_accuracy: 0.5362\n",
      "Epoch 56/100\n",
      "11/11 [==============================] - 0s 4ms/step - loss: 0.6906 - accuracy: 0.5362 - val_loss: 0.6906 - val_accuracy: 0.5362\n",
      "Epoch 57/100\n",
      "11/11 [==============================] - 0s 4ms/step - loss: 0.6906 - accuracy: 0.5362 - val_loss: 0.6906 - val_accuracy: 0.5362\n",
      "Epoch 58/100\n",
      "11/11 [==============================] - 0s 4ms/step - loss: 0.6906 - accuracy: 0.5362 - val_loss: 0.6906 - val_accuracy: 0.5362\n"
     ]
    },
    {
     "name": "stdout",
     "output_type": "stream",
     "text": [
      "Epoch 59/100\n",
      "11/11 [==============================] - 0s 4ms/step - loss: 0.6906 - accuracy: 0.5362 - val_loss: 0.6906 - val_accuracy: 0.5362\n",
      "Epoch 60/100\n",
      "11/11 [==============================] - 0s 4ms/step - loss: 0.6906 - accuracy: 0.5362 - val_loss: 0.6906 - val_accuracy: 0.5362\n",
      "Epoch 61/100\n",
      "11/11 [==============================] - 0s 4ms/step - loss: 0.6906 - accuracy: 0.5362 - val_loss: 0.6906 - val_accuracy: 0.5362\n",
      "Epoch 62/100\n",
      "11/11 [==============================] - 0s 4ms/step - loss: 0.6906 - accuracy: 0.5362 - val_loss: 0.6906 - val_accuracy: 0.5362\n",
      "Epoch 63/100\n",
      "11/11 [==============================] - 0s 4ms/step - loss: 0.6906 - accuracy: 0.5362 - val_loss: 0.6906 - val_accuracy: 0.5362\n",
      "Epoch 64/100\n",
      "11/11 [==============================] - 0s 4ms/step - loss: 0.6906 - accuracy: 0.5362 - val_loss: 0.6906 - val_accuracy: 0.5362\n",
      "Epoch 65/100\n",
      "11/11 [==============================] - 0s 4ms/step - loss: 0.6906 - accuracy: 0.5362 - val_loss: 0.6905 - val_accuracy: 0.5362\n",
      "Epoch 66/100\n",
      "11/11 [==============================] - 0s 4ms/step - loss: 0.6906 - accuracy: 0.5362 - val_loss: 0.6905 - val_accuracy: 0.5362\n",
      "Epoch 67/100\n",
      "11/11 [==============================] - 0s 4ms/step - loss: 0.6906 - accuracy: 0.5362 - val_loss: 0.6905 - val_accuracy: 0.5362\n",
      "Epoch 68/100\n",
      "11/11 [==============================] - 0s 4ms/step - loss: 0.6906 - accuracy: 0.5362 - val_loss: 0.6905 - val_accuracy: 0.5362\n",
      "Epoch 69/100\n",
      "11/11 [==============================] - 0s 4ms/step - loss: 0.6906 - accuracy: 0.5362 - val_loss: 0.6905 - val_accuracy: 0.5362\n",
      "Epoch 70/100\n",
      "11/11 [==============================] - 0s 4ms/step - loss: 0.6906 - accuracy: 0.5362 - val_loss: 0.6905 - val_accuracy: 0.5362\n",
      "Epoch 71/100\n",
      "11/11 [==============================] - 0s 4ms/step - loss: 0.6906 - accuracy: 0.5362 - val_loss: 0.6905 - val_accuracy: 0.5362\n",
      "Epoch 72/100\n",
      "11/11 [==============================] - 0s 4ms/step - loss: 0.6906 - accuracy: 0.5362 - val_loss: 0.6905 - val_accuracy: 0.5362\n",
      "Epoch 73/100\n",
      "11/11 [==============================] - 0s 4ms/step - loss: 0.6906 - accuracy: 0.5362 - val_loss: 0.6905 - val_accuracy: 0.5362\n",
      "Epoch 74/100\n",
      "11/11 [==============================] - 0s 4ms/step - loss: 0.6906 - accuracy: 0.5362 - val_loss: 0.6906 - val_accuracy: 0.5362\n",
      "Epoch 75/100\n",
      "11/11 [==============================] - 0s 4ms/step - loss: 0.6906 - accuracy: 0.5362 - val_loss: 0.6906 - val_accuracy: 0.5362\n",
      "Epoch 76/100\n",
      "11/11 [==============================] - 0s 4ms/step - loss: 0.6906 - accuracy: 0.5362 - val_loss: 0.6905 - val_accuracy: 0.5362\n",
      "Epoch 77/100\n",
      "11/11 [==============================] - 0s 4ms/step - loss: 0.6906 - accuracy: 0.5362 - val_loss: 0.6905 - val_accuracy: 0.5362\n",
      "Epoch 78/100\n",
      "11/11 [==============================] - 0s 4ms/step - loss: 0.6906 - accuracy: 0.5362 - val_loss: 0.6905 - val_accuracy: 0.5362\n",
      "Epoch 79/100\n",
      "11/11 [==============================] - 0s 4ms/step - loss: 0.6905 - accuracy: 0.5362 - val_loss: 0.6905 - val_accuracy: 0.5362\n",
      "Epoch 80/100\n",
      "11/11 [==============================] - 0s 4ms/step - loss: 0.6905 - accuracy: 0.5362 - val_loss: 0.6905 - val_accuracy: 0.5362\n",
      "Epoch 81/100\n",
      "11/11 [==============================] - 0s 4ms/step - loss: 0.6905 - accuracy: 0.5362 - val_loss: 0.6905 - val_accuracy: 0.5362\n",
      "Epoch 82/100\n",
      "11/11 [==============================] - 0s 4ms/step - loss: 0.6905 - accuracy: 0.5362 - val_loss: 0.6905 - val_accuracy: 0.5362\n",
      "Epoch 83/100\n",
      "11/11 [==============================] - 0s 4ms/step - loss: 0.6905 - accuracy: 0.5362 - val_loss: 0.6905 - val_accuracy: 0.5362\n",
      "Epoch 84/100\n",
      "11/11 [==============================] - 0s 4ms/step - loss: 0.6905 - accuracy: 0.5362 - val_loss: 0.6905 - val_accuracy: 0.5362\n",
      "Epoch 85/100\n",
      "11/11 [==============================] - 0s 4ms/step - loss: 0.6906 - accuracy: 0.5362 - val_loss: 0.6905 - val_accuracy: 0.5362\n",
      "Epoch 86/100\n",
      "11/11 [==============================] - 0s 4ms/step - loss: 0.6905 - accuracy: 0.5362 - val_loss: 0.6905 - val_accuracy: 0.5362\n",
      "Epoch 87/100\n",
      "11/11 [==============================] - 0s 4ms/step - loss: 0.6906 - accuracy: 0.5362 - val_loss: 0.6905 - val_accuracy: 0.5362\n",
      "Epoch 88/100\n",
      "11/11 [==============================] - 0s 4ms/step - loss: 0.6905 - accuracy: 0.5362 - val_loss: 0.6905 - val_accuracy: 0.5362\n",
      "Epoch 89/100\n",
      "11/11 [==============================] - 0s 4ms/step - loss: 0.6905 - accuracy: 0.5362 - val_loss: 0.6905 - val_accuracy: 0.5362\n",
      "Epoch 90/100\n",
      "11/11 [==============================] - 0s 4ms/step - loss: 0.6905 - accuracy: 0.5362 - val_loss: 0.6905 - val_accuracy: 0.5362\n",
      "Epoch 91/100\n",
      "11/11 [==============================] - 0s 4ms/step - loss: 0.6906 - accuracy: 0.5362 - val_loss: 0.6905 - val_accuracy: 0.5362\n",
      "Epoch 92/100\n",
      "11/11 [==============================] - 0s 4ms/step - loss: 0.6905 - accuracy: 0.5362 - val_loss: 0.6905 - val_accuracy: 0.5362\n",
      "Epoch 93/100\n",
      "11/11 [==============================] - 0s 4ms/step - loss: 0.6905 - accuracy: 0.5362 - val_loss: 0.6905 - val_accuracy: 0.5362\n",
      "Epoch 94/100\n",
      "11/11 [==============================] - 0s 4ms/step - loss: 0.6905 - accuracy: 0.5362 - val_loss: 0.6905 - val_accuracy: 0.5362\n",
      "Epoch 95/100\n",
      "11/11 [==============================] - 0s 4ms/step - loss: 0.6905 - accuracy: 0.5362 - val_loss: 0.6905 - val_accuracy: 0.5362\n",
      "Epoch 96/100\n",
      "11/11 [==============================] - 0s 4ms/step - loss: 0.6905 - accuracy: 0.5362 - val_loss: 0.6905 - val_accuracy: 0.5362\n",
      "Epoch 97/100\n",
      "11/11 [==============================] - 0s 4ms/step - loss: 0.6905 - accuracy: 0.5362 - val_loss: 0.6905 - val_accuracy: 0.5362\n",
      "Epoch 98/100\n",
      "11/11 [==============================] - 0s 4ms/step - loss: 0.6906 - accuracy: 0.5362 - val_loss: 0.6905 - val_accuracy: 0.5362\n",
      "Epoch 99/100\n",
      "11/11 [==============================] - 0s 4ms/step - loss: 0.6905 - accuracy: 0.5362 - val_loss: 0.6905 - val_accuracy: 0.5362\n",
      "Epoch 100/100\n",
      "11/11 [==============================] - 0s 4ms/step - loss: 0.6905 - accuracy: 0.5362 - val_loss: 0.6905 - val_accuracy: 0.5362\n"
     ]
    }
   ],
   "source": [
    "history = ntw.fit(X,y,epochs = 100,batch_size = 20,validation_data=(X,y))"
   ]
  },
  {
   "cell_type": "code",
   "execution_count": 14,
   "id": "5cf6d142",
   "metadata": {
    "scrolled": true
   },
   "outputs": [
    {
     "name": "stdout",
     "output_type": "stream",
     "text": [
      "5/5 [==============================] - 0s 1ms/step - loss: 0.6907 - accuracy: 0.5347\n"
     ]
    },
    {
     "data": {
      "text/plain": [
       "[0.6907350420951843, 0.5347222089767456]"
      ]
     },
     "execution_count": 14,
     "metadata": {},
     "output_type": "execute_result"
    }
   ],
   "source": [
    "ntw.evaluate(X_train,y_train)"
   ]
  },
  {
   "cell_type": "code",
   "execution_count": 15,
   "id": "ee6a4a6b",
   "metadata": {},
   "outputs": [
    {
     "name": "stdout",
     "output_type": "stream",
     "text": [
      "2/2 [==============================] - 0s 2ms/step\n"
     ]
    },
    {
     "data": {
      "text/plain": [
       "array([[0.4645497],\n",
       "       [0.4645497],\n",
       "       [0.4645497],\n",
       "       [0.4645497],\n",
       "       [0.4645497],\n",
       "       [0.4645497],\n",
       "       [0.4645497],\n",
       "       [0.4645497],\n",
       "       [0.4645497],\n",
       "       [0.4645497],\n",
       "       [0.4645497],\n",
       "       [0.4645497],\n",
       "       [0.4645497],\n",
       "       [0.4645497],\n",
       "       [0.4645497],\n",
       "       [0.4645497],\n",
       "       [0.4645497],\n",
       "       [0.4645497],\n",
       "       [0.4645497],\n",
       "       [0.4645497],\n",
       "       [0.4645497],\n",
       "       [0.4645497],\n",
       "       [0.4645497],\n",
       "       [0.4645497],\n",
       "       [0.4645497],\n",
       "       [0.4645497],\n",
       "       [0.4645497],\n",
       "       [0.4645497],\n",
       "       [0.4645497],\n",
       "       [0.4645497],\n",
       "       [0.4645497],\n",
       "       [0.4645497],\n",
       "       [0.4645497],\n",
       "       [0.4645497],\n",
       "       [0.4645497],\n",
       "       [0.4645497],\n",
       "       [0.4645497],\n",
       "       [0.4645497],\n",
       "       [0.4645497],\n",
       "       [0.4645497],\n",
       "       [0.4645497],\n",
       "       [0.4645497],\n",
       "       [0.4645497],\n",
       "       [0.4645497],\n",
       "       [0.4645497],\n",
       "       [0.4645497],\n",
       "       [0.4645497],\n",
       "       [0.4645497],\n",
       "       [0.4645497],\n",
       "       [0.4645497],\n",
       "       [0.4645497],\n",
       "       [0.4645497],\n",
       "       [0.4645497],\n",
       "       [0.4645497],\n",
       "       [0.4645497],\n",
       "       [0.4645497],\n",
       "       [0.4645497],\n",
       "       [0.4645497],\n",
       "       [0.4645497],\n",
       "       [0.4645497],\n",
       "       [0.4645497],\n",
       "       [0.4645497],\n",
       "       [0.4645497]], dtype=float32)"
      ]
     },
     "execution_count": 15,
     "metadata": {},
     "output_type": "execute_result"
    }
   ],
   "source": [
    "y_pred = ntw.predict(X_test)\n",
    "y_pred"
   ]
  },
  {
   "cell_type": "code",
   "execution_count": 16,
   "id": "c16da201",
   "metadata": {},
   "outputs": [
    {
     "data": {
      "text/plain": [
       "array([[0],\n",
       "       [0],\n",
       "       [0],\n",
       "       [0],\n",
       "       [0],\n",
       "       [0],\n",
       "       [0],\n",
       "       [0],\n",
       "       [0],\n",
       "       [0],\n",
       "       [0],\n",
       "       [0],\n",
       "       [0],\n",
       "       [0],\n",
       "       [0],\n",
       "       [0],\n",
       "       [0],\n",
       "       [0],\n",
       "       [0],\n",
       "       [0],\n",
       "       [0],\n",
       "       [0],\n",
       "       [0],\n",
       "       [0],\n",
       "       [0],\n",
       "       [0],\n",
       "       [0],\n",
       "       [0],\n",
       "       [0],\n",
       "       [0],\n",
       "       [0],\n",
       "       [0],\n",
       "       [0],\n",
       "       [0],\n",
       "       [0],\n",
       "       [0],\n",
       "       [0],\n",
       "       [0],\n",
       "       [0],\n",
       "       [0],\n",
       "       [0],\n",
       "       [0],\n",
       "       [0],\n",
       "       [0],\n",
       "       [0],\n",
       "       [0],\n",
       "       [0],\n",
       "       [0],\n",
       "       [0],\n",
       "       [0],\n",
       "       [0],\n",
       "       [0],\n",
       "       [0],\n",
       "       [0],\n",
       "       [0],\n",
       "       [0],\n",
       "       [0],\n",
       "       [0],\n",
       "       [0],\n",
       "       [0],\n",
       "       [0],\n",
       "       [0],\n",
       "       [0]])"
      ]
     },
     "execution_count": 16,
     "metadata": {},
     "output_type": "execute_result"
    }
   ],
   "source": [
    "import numpy as np\n",
    "y_pred=np.where(y_pred>0.5,1,0)\n",
    "y_pred"
   ]
  },
  {
   "cell_type": "code",
   "execution_count": 17,
   "id": "69fb6414",
   "metadata": {},
   "outputs": [
    {
     "name": "stdout",
     "output_type": "stream",
     "text": [
      "2/2 [==============================] - 0s 3ms/step - loss: 0.6900 - accuracy: 0.5397\n"
     ]
    },
    {
     "data": {
      "text/plain": [
       "[0.6900303959846497, 0.5396825671195984]"
      ]
     },
     "execution_count": 17,
     "metadata": {},
     "output_type": "execute_result"
    }
   ],
   "source": [
    "ntw.evaluate(X_test,y_test)"
   ]
  },
  {
   "cell_type": "code",
   "execution_count": 18,
   "id": "eaffa47a",
   "metadata": {},
   "outputs": [
    {
     "data": {
      "text/plain": [
       "[<matplotlib.lines.Line2D at 0x23788f1ada0>]"
      ]
     },
     "execution_count": 18,
     "metadata": {},
     "output_type": "execute_result"
    },
    {
     "data": {
      "image/png": "[encoded data removed]",
      "text/plain": [
       "<Figure size 864x576 with 2 Axes>"
      ]
     },
     "metadata": {
      "needs_background": "light"
     },
     "output_type": "display_data"
    }
   ],
   "source": [
    "import matplotlib.pyplot as plt\n",
    "fig = plt.figure(figsize =(12,8))\n",
    "plt.subplot(1,2,1)\n",
    "plt.plot(history.history['accuracy'])\n",
    "plt.plot(history.history['val_accuracy'])\n",
    "\n",
    "\n",
    "plt.subplot(1,2,2)\n",
    "plt.plot(history.history['loss'])\n",
    "plt.plot(history.history['val_loss'])"
   ]
  },
  {
   "cell_type": "code",
   "execution_count": 19,
   "id": "f88aa33e",
   "metadata": {},
   "outputs": [],
   "source": [
    "from sklearn.metrics import classification_report,accuracy_score,confusion_matrix,precision_score,recall_score,f1_score,cohen_kappa_score,jaccard_score"
   ]
  },
  {
   "cell_type": "code",
   "execution_count": 20,
   "id": "ca3483b1",
   "metadata": {},
   "outputs": [
    {
     "name": "stdout",
     "output_type": "stream",
     "text": [
      "              precision    recall  f1-score   support\n",
      "\n",
      "           0       0.54      1.00      0.70        34\n",
      "           1       0.00      0.00      0.00        29\n",
      "\n",
      "    accuracy                           0.54        63\n",
      "   macro avg       0.27      0.50      0.35        63\n",
      "weighted avg       0.29      0.54      0.38        63\n",
      "\n"
     ]
    },
    {
     "name": "stderr",
     "output_type": "stream",
     "text": [
      "C:\\Users\\Subitha\\AppData\\Roaming\\Python\\Python310\\site-packages\\sklearn\\metrics\\_classification.py:1318: UndefinedMetricWarning: Precision and F-score are ill-defined and being set to 0.0 in labels with no predicted samples. Use `zero_division` parameter to control this behavior.\n",
      "  _warn_prf(average, modifier, msg_start, len(result))\n",
      "C:\\Users\\Subitha\\AppData\\Roaming\\Python\\Python310\\site-packages\\sklearn\\metrics\\_classification.py:1318: UndefinedMetricWarning: Precision and F-score are ill-defined and being set to 0.0 in labels with no predicted samples. Use `zero_division` parameter to control this behavior.\n",
      "  _warn_prf(average, modifier, msg_start, len(result))\n",
      "C:\\Users\\Subitha\\AppData\\Roaming\\Python\\Python310\\site-packages\\sklearn\\metrics\\_classification.py:1318: UndefinedMetricWarning: Precision and F-score are ill-defined and being set to 0.0 in labels with no predicted samples. Use `zero_division` parameter to control this behavior.\n",
      "  _warn_prf(average, modifier, msg_start, len(result))\n"
     ]
    }
   ],
   "source": [
    "print(classification_report(y_test,y_pred))"
   ]
  },
  {
   "cell_type": "code",
   "execution_count": 21,
   "id": "2735360c",
   "metadata": {},
   "outputs": [],
   "source": [
    "cmd = confusion_matrix(y_test,y_pred)"
   ]
  },
  {
   "cell_type": "code",
   "execution_count": 22,
   "id": "d18559e2",
   "metadata": {},
   "outputs": [
    {
     "data": {
      "text/plain": [
       "array([[34,  0],\n",
       "       [29,  0]], dtype=int64)"
      ]
     },
     "execution_count": 22,
     "metadata": {},
     "output_type": "execute_result"
    }
   ],
   "source": [
    "cmd"
   ]
  },
  {
   "cell_type": "code",
   "execution_count": 23,
   "id": "24982b21",
   "metadata": {},
   "outputs": [
    {
     "data": {
      "text/plain": [
       "<Axes: >"
      ]
     },
     "execution_count": 23,
     "metadata": {},
     "output_type": "execute_result"
    },
    {
     "data": {
      "image/png": "[encoded data removed]",
      "text/plain": [
       "<Figure size 432x288 with 2 Axes>"
      ]
     },
     "metadata": {
      "needs_background": "light"
     },
     "output_type": "display_data"
    }
   ],
   "source": [
    "import seaborn as sns\n",
    "sns.heatmap(cmd,annot=True,fmt='d')            "
   ]
  },
  {
   "cell_type": "code",
   "execution_count": 24,
   "id": "3b4c1e41",
   "metadata": {},
   "outputs": [
    {
     "data": {
      "text/plain": [
       "0.5396825396825397"
      ]
     },
     "execution_count": 24,
     "metadata": {},
     "output_type": "execute_result"
    }
   ],
   "source": [
    "# (True Positive + True Negative) / Total Predictions\n",
    "Accuracy = accuracy_score(y_test, y_pred)\n",
    "Accuracy"
   ]
  },
  {
   "cell_type": "code",
   "execution_count": 25,
   "id": "730c99b3",
   "metadata": {},
   "outputs": [
    {
     "name": "stderr",
     "output_type": "stream",
     "text": [
      "C:\\Users\\Subitha\\AppData\\Roaming\\Python\\Python310\\site-packages\\sklearn\\metrics\\_classification.py:1318: UndefinedMetricWarning: Precision is ill-defined and being set to 0.0 due to no predicted samples. Use `zero_division` parameter to control this behavior.\n",
      "  _warn_prf(average, modifier, msg_start, len(result))\n"
     ]
    },
    {
     "data": {
      "text/plain": [
       "0.0"
      ]
     },
     "execution_count": 25,
     "metadata": {},
     "output_type": "execute_result"
    }
   ],
   "source": [
    "# True Positive / (True Positive + False Positive)\n",
    "Precision = precision_score(y_test, y_pred)\n",
    "Precision"
   ]
  },
  {
   "cell_type": "code",
   "execution_count": 26,
   "id": "54896aa3",
   "metadata": {},
   "outputs": [
    {
     "data": {
      "text/plain": [
       "0.0"
      ]
     },
     "execution_count": 26,
     "metadata": {},
     "output_type": "execute_result"
    }
   ],
   "source": [
    "# True Positive / (True Positive + False Negative)\n",
    "Sensitivity_recall = recall_score(y_test, y_pred)\n",
    "Sensitivity_recall"
   ]
  },
  {
   "cell_type": "code",
   "execution_count": 27,
   "id": "88449c1a",
   "metadata": {},
   "outputs": [
    {
     "data": {
      "text/plain": [
       "0.0"
      ]
     },
     "execution_count": 27,
     "metadata": {},
     "output_type": "execute_result"
    }
   ],
   "source": [
    "#  2*((Precision * Sensitivity) / (Precision + Sensitivity))\n",
    "F1_score = f1_score(y_test, y_pred)\n",
    "F1_score"
   ]
  },
  {
   "cell_type": "code",
   "execution_count": 28,
   "id": "7d7175af",
   "metadata": {
    "scrolled": true
   },
   "outputs": [
    {
     "data": {
      "text/plain": [
       "0.0"
      ]
     },
     "execution_count": 28,
     "metadata": {},
     "output_type": "execute_result"
    }
   ],
   "source": [
    "cohen_kappa_score(y_test, y_pred)"
   ]
  },
  {
   "cell_type": "code",
   "execution_count": 29,
   "id": "991db952",
   "metadata": {
    "scrolled": true
   },
   "outputs": [
    {
     "data": {
      "text/plain": [
       "0.0"
      ]
     },
     "execution_count": 29,
     "metadata": {},
     "output_type": "execute_result"
    }
   ],
   "source": [
    "jaccard_score(y_test, y_pred)"
   ]
  },
  {
   "cell_type": "code",
   "execution_count": null,
   "id": "40c706b0",
   "metadata": {},
   "outputs": [],
   "source": []
  }
 ],
 "metadata": {
  "kernelspec": {
   "display_name": "Python 3 (ipykernel)",
   "language": "python",
   "name": "python3"
  },
  "language_info": {
   "codemirror_mode": {
    "name": "ipython",
    "version": 3
   },
   "file_extension": ".py",
   "mimetype": "text/x-python",
   "name": "python",
   "nbconvert_exporter": "python",
   "pygments_lexer": "ipython3",
   "version": "3.10.0"
  }
 },
 "nbformat": 4,
 "nbformat_minor": 5
}
